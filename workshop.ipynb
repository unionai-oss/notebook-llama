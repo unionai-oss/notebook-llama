{
 "cells": [
  {
   "cell_type": "markdown",
   "metadata": {},
   "source": [
    "# Workshop\n",
    "\n",
    "In this workshop, we'll be building a podcast generator from a PDF file."
   ]
  },
  {
   "cell_type": "code",
   "execution_count": 1,
   "metadata": {},
   "outputs": [],
   "source": [
    "import os\n",
    "\n",
    "os.environ[\"UNION_API_KEY\"] = \"...\"  # enter the Union API key here"
   ]
  },
  {
   "cell_type": "markdown",
   "metadata": {},
   "source": [
    "If you haven't already, register the `notebook_llama` tasks and workflows:"
   ]
  },
  {
   "cell_type": "code",
   "execution_count": null,
   "metadata": {},
   "outputs": [],
   "source": [
    "# uncommend the line below to register the tasks and workflows if you haven't already\n",
    "# !union register notebook_llama"
   ]
  },
  {
   "cell_type": "code",
   "execution_count": 2,
   "metadata": {},
   "outputs": [],
   "source": [
    "import union\n",
    "import rich\n",
    "\n",
    "remote = union.UnionRemote(\n",
    "    default_project=\"default\",\n",
    "    default_domain=\"development\",\n",
    "    interactive_mode_enabled=False,\n",
    ")\n",
    "\n",
    "def print_prompt(title: str, prompt: str):\n",
    "    return rich.panel.Panel(prompt, title=title, width=120, border_style=\"red\")\n",
    "\n",
    "def print_text(title: str, text: str):\n",
    "    return rich.panel.Panel(text, title=title, width=120, border_style=\"yellow\")"
   ]
  },
  {
   "cell_type": "markdown",
   "metadata": {},
   "source": [
    "## Extract Text from PDF"
   ]
  },
  {
   "cell_type": "code",
   "execution_count": null,
   "metadata": {},
   "outputs": [],
   "source": [
    "from notebook_llama.preprocess_pdf import pdf_to_text, SYS_PROMPT as EXTRACT_PDF_SYS_PROMPT\n",
    "\n",
    "rich.print(print_prompt(\"PDF Extraction System Prompt\", EXTRACT_PDF_SYS_PROMPT))\n",
    "\n",
    "pdf_to_text_execution = remote.execute(\n",
    "    pdf_to_text,\n",
    "    inputs={\"pdf_path\": \"https://arxiv.org/pdf/2503.13571\"},\n",
    ")\n",
    "pdf_to_text_execution"
   ]
  },
  {
   "cell_type": "code",
   "execution_count": null,
   "metadata": {},
   "outputs": [],
   "source": [
    "pdf_to_text_execution = remote.wait(pdf_to_text_execution)\n",
    "extracted_text = pdf_to_text_execution.outputs[\"o0\"]\n",
    "\n",
    "with open(extracted_text) as f:\n",
    "    text = f.read()\n",
    "\n",
    "print_text(\"Extracted Text\", text)"
   ]
  },
  {
   "cell_type": "markdown",
   "metadata": {},
   "source": [
    "## Write Transcript"
   ]
  },
  {
   "cell_type": "code",
   "execution_count": null,
   "metadata": {},
   "outputs": [],
   "source": [
    "from notebook_llama.write_transcript import write_transcript, SYSTEM_PROMPT as WRITE_TRANSCRIPT_SYSTEM_PROMPT\n",
    "\n",
    "rich.print(print_prompt(\"Write Transcript System Prompt\", WRITE_TRANSCRIPT_SYSTEM_PROMPT))\n",
    "\n",
    "write_transcript_execution = remote.execute(\n",
    "    write_transcript,\n",
    "    inputs={\"pdf_text\": extracted_text},\n",
    "    version=\"latest\",\n",
    ")\n",
    "\n",
    "write_transcript_execution"
   ]
  },
  {
   "cell_type": "code",
   "execution_count": null,
   "metadata": {},
   "outputs": [],
   "source": [
    "write_transcript_execution = remote.wait(write_transcript_execution)\n",
    "raw_transcript_file = write_transcript_execution.outputs[\"o0\"]\n",
    "\n",
    "with open(raw_transcript_file) as f:\n",
    "    raw_transcript = f.read()\n",
    "\n",
    "print_text(\"Raw Transcript\", raw_transcript)"
   ]
  },
  {
   "cell_type": "markdown",
   "metadata": {},
   "source": [
    "## Rewrite Transcript"
   ]
  },
  {
   "cell_type": "code",
   "execution_count": null,
   "metadata": {},
   "outputs": [],
   "source": [
    "from notebook_llama.rewrite_transcript import rewrite_transcript, SYSTEM_PROMPT as REWRITE_TRANSCRIPT_SYSTEM_PROMPT\n",
    "\n",
    "rich.print(print_prompt(\"Rewrite Transcript System Prompt\", REWRITE_TRANSCRIPT_SYSTEM_PROMPT))\n",
    "\n",
    "rewrite_transcript_execution = remote.execute(\n",
    "    rewrite_transcript,\n",
    "    inputs={\"transcript\": raw_transcript_file},\n",
    "    version=\"latest\",\n",
    ")\n",
    "\n",
    "rewrite_transcript_execution"
   ]
  },
  {
   "cell_type": "code",
   "execution_count": null,
   "metadata": {},
   "outputs": [],
   "source": [
    "import json\n",
    "import rich.markdown\n",
    "\n",
    "rewrite_transcript_execution = remote.wait(rewrite_transcript_execution)\n",
    "rewritten_transcript_file = rewrite_transcript_execution.outputs[\"o0\"]\n",
    "\n",
    "with open(rewritten_transcript_file) as f:\n",
    "    rewritten_transcript = json.load(f)\n",
    "\n",
    "text = \"\"\n",
    "for speaker, line in rewritten_transcript:\n",
    "    text += f\"**{speaker}**: {line}\\n\\n\"\n",
    "\n",
    "print_text(\"Rewritten Transcript\", rich.markdown.Markdown(text))"
   ]
  },
  {
   "cell_type": "markdown",
   "metadata": {},
   "source": [
    "## Generate Podcast"
   ]
  },
  {
   "cell_type": "code",
   "execution_count": null,
   "metadata": {},
   "outputs": [],
   "source": [
    "from notebook_llama.generate_podcast import generate_podcast, speaker1_description, speaker2_description\n",
    "\n",
    "rich.print(print_prompt(\"Speaker 1 Description\", speaker1_description))\n",
    "rich.print(print_prompt(\"Speaker 2 Description\", speaker2_description))\n",
    "\n",
    "generate_podcast_execution = remote.execute(\n",
    "    generate_podcast,\n",
    "    inputs={\"clean_transcript\": rewritten_transcript_file},\n",
    "    version=\"latest\",\n",
    ")\n",
    "\n",
    "generate_podcast_execution"
   ]
  },
  {
   "cell_type": "code",
   "execution_count": null,
   "metadata": {},
   "outputs": [],
   "source": [
    "from IPython.display import Audio\n",
    "\n",
    "generate_podcast_execution = remote.wait(generate_podcast_execution)\n",
    "podcast_file = generate_podcast_execution.outputs[\"o0\"]\n",
    "\n",
    "podcast_file.download()\n",
    "Audio(podcast_file.path)\n"
   ]
  }
 ],
 "metadata": {
  "kernelspec": {
   "display_name": ".venv",
   "language": "python",
   "name": "python3"
  },
  "language_info": {
   "codemirror_mode": {
    "name": "ipython",
    "version": 3
   },
   "file_extension": ".py",
   "mimetype": "text/x-python",
   "name": "python",
   "nbconvert_exporter": "python",
   "pygments_lexer": "ipython3",
   "version": "3.12.6"
  }
 },
 "nbformat": 4,
 "nbformat_minor": 2
}
